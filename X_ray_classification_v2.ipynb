{
 "cells": [
  {
   "cell_type": "code",
   "execution_count": 1,
   "metadata": {},
   "outputs": [
    {
     "name": "stderr",
     "output_type": "stream",
     "text": [
      "Using TensorFlow backend.\n"
     ]
    }
   ],
   "source": [
    "import numpy as np\n",
    "from PIL import Image\n",
    "import glob\n",
    "\n",
    "from keras import layers, optimizers\n",
    "from keras.layers import Input, Dense, Activation, ZeroPadding2D, BatchNormalization, Flatten, Conv2D\n",
    "from keras.layers import AveragePooling2D, MaxPooling2D, Dropout, GlobalMaxPooling2D, GlobalAveragePooling2D\n",
    "from keras.models import Model"
   ]
  },
  {
   "cell_type": "code",
   "execution_count": 2,
   "metadata": {},
   "outputs": [],
   "source": [
    "def image_preprocessing(image_path):\n",
    "    image_list = []\n",
    "    for filename in glob.glob(image_path + '/*.jpeg'):   # create the path of image directory\n",
    "        img = Image.open(filename)\n",
    "        if img.mode == 'L':\n",
    "            img = img.convert('RGB')\n",
    "        img = img.resize((128,128))\n",
    "        im = np.asarray(img, dtype=np.float32)/255\n",
    "        image_list.append(im)\n",
    "    return np.array(image_list)"
   ]
  },
  {
   "cell_type": "code",
   "execution_count": 3,
   "metadata": {},
   "outputs": [
    {
     "name": "stdout",
     "output_type": "stream",
     "text": [
      "test_normal's shape is (234, 128, 128, 3)\n",
      "test_sick's shape is (390, 128, 128, 3)\n",
      "train_normal's shape is (1341, 128, 128, 3)\n",
      "train_sick's shape is (3875, 128, 128, 3)\n",
      "val_normal's shape is (8, 128, 128, 3)\n",
      "val_sick's shape is (8, 128, 128, 3)\n"
     ]
    }
   ],
   "source": [
    "test_normal = image_preprocessing('./chest_xray/test/NORMAL')\n",
    "test_sick = image_preprocessing('./chest_xray/test/PNEUMONIA')\n",
    "\n",
    "train_normal = image_preprocessing('./chest_xray/train/NORMAL')\n",
    "train_sick = image_preprocessing('./chest_xray/train/PNEUMONIA')\n",
    "\n",
    "val_normal = image_preprocessing('./chest_xray/val/NORMAL')\n",
    "val_sick = image_preprocessing('./chest_xray/val/PNEUMONIA')\n",
    "\n",
    "print(\"test_normal's shape is {}\".format(test_normal.shape))\n",
    "print(\"test_sick's shape is {}\".format(test_sick.shape))\n",
    "print(\"train_normal's shape is {}\".format(train_normal.shape))\n",
    "print(\"train_sick's shape is {}\".format(train_sick.shape))\n",
    "print(\"val_normal's shape is {}\".format(val_normal.shape))\n",
    "print(\"val_sick's shape is {}\".format(val_sick.shape))"
   ]
  },
  {
   "cell_type": "code",
   "execution_count": 4,
   "metadata": {},
   "outputs": [
    {
     "name": "stdout",
     "output_type": "stream",
     "text": [
      "test_normal_y's shape is (234, 1)\n",
      "test_sick_y's shape is (390, 1)\n",
      "train_normal_y's shape is (1341, 1)\n",
      "train_sick_y's shape is (3875, 1)\n",
      "val_normal_y's shape is (8, 1)\n",
      "val_sick_y's shape is (8, 1)\n",
      "[0.]\n"
     ]
    }
   ],
   "source": [
    "test_normal_y = np.zeros((test_normal.shape[0],1))\n",
    "train_normal_y = np.zeros((train_normal.shape[0],1))\n",
    "val_normal_y = np.zeros((val_normal.shape[0],1))\n",
    "test_sick_y = np.ones((test_sick.shape[0],1))\n",
    "train_sick_y = np.ones((train_sick.shape[0],1))\n",
    "val_sick_y = np.ones((val_sick.shape[0],1))\n",
    "\n",
    "print(\"test_normal_y's shape is {}\".format(test_normal_y.shape))\n",
    "print(\"test_sick_y's shape is {}\".format(test_sick_y.shape))\n",
    "print(\"train_normal_y's shape is {}\".format(train_normal_y.shape))\n",
    "print(\"train_sick_y's shape is {}\".format(train_sick_y.shape))\n",
    "print(\"val_normal_y's shape is {}\".format(val_normal_y.shape))\n",
    "print(\"val_sick_y's shape is {}\".format(val_sick_y.shape))\n",
    "print(test_normal_y[12])"
   ]
  },
  {
   "cell_type": "code",
   "execution_count": 5,
   "metadata": {},
   "outputs": [
    {
     "name": "stdout",
     "output_type": "stream",
     "text": [
      "(5216, 128, 128, 3)\n",
      "(5216, 1)\n",
      "(624, 128, 128, 3)\n",
      "(624, 1)\n",
      "(16, 128, 128, 3)\n",
      "(16, 1)\n",
      "[[[0.10588235 0.10588235 0.10588235]\n",
      "  [0.10588235 0.10588235 0.10588235]\n",
      "  [0.11372549 0.11372549 0.11372549]\n",
      "  ...\n",
      "  [0.10196079 0.10196079 0.10196079]\n",
      "  [0.11764706 0.11764706 0.11764706]\n",
      "  [0.10980392 0.10980392 0.10980392]]\n",
      "\n",
      " [[0.10588235 0.10588235 0.10588235]\n",
      "  [0.11764706 0.11764706 0.11764706]\n",
      "  [0.11372549 0.11372549 0.11372549]\n",
      "  ...\n",
      "  [0.10980392 0.10980392 0.10980392]\n",
      "  [0.10980392 0.10980392 0.10980392]\n",
      "  [0.11372549 0.11372549 0.11372549]]\n",
      "\n",
      " [[0.10588235 0.10588235 0.10588235]\n",
      "  [0.11764706 0.11764706 0.11764706]\n",
      "  [0.10588235 0.10588235 0.10588235]\n",
      "  ...\n",
      "  [0.10980392 0.10980392 0.10980392]\n",
      "  [0.11372549 0.11372549 0.11372549]\n",
      "  [0.11372549 0.11372549 0.11372549]]\n",
      "\n",
      " ...\n",
      "\n",
      " [[0.         0.         0.        ]\n",
      "  [0.         0.         0.        ]\n",
      "  [0.09411765 0.09411765 0.09411765]\n",
      "  ...\n",
      "  [0.09019608 0.09019608 0.09019608]\n",
      "  [0.09411765 0.09411765 0.09411765]\n",
      "  [0.09411765 0.09411765 0.09411765]]\n",
      "\n",
      " [[0.         0.         0.        ]\n",
      "  [0.         0.         0.        ]\n",
      "  [0.10196079 0.10196079 0.10196079]\n",
      "  ...\n",
      "  [0.         0.         0.        ]\n",
      "  [0.         0.         0.        ]\n",
      "  [0.         0.         0.        ]]\n",
      "\n",
      " [[0.         0.         0.        ]\n",
      "  [0.         0.         0.        ]\n",
      "  [0.09411765 0.09411765 0.09411765]\n",
      "  ...\n",
      "  [0.         0.         0.        ]\n",
      "  [0.         0.         0.        ]\n",
      "  [0.         0.         0.        ]]]\n"
     ]
    }
   ],
   "source": [
    "test_X = np.concatenate((test_normal, test_sick))\n",
    "test_Y = np.concatenate((test_normal_y, test_sick_y))\n",
    "train_X = np.concatenate((train_normal, train_sick))\n",
    "train_Y = np.concatenate((train_normal_y, train_sick_y))\n",
    "val_X = np.concatenate((val_normal, val_sick))\n",
    "val_Y = np.concatenate((val_normal_y, val_sick_y))\n",
    "\n",
    "print(train_X.shape)\n",
    "print(train_Y.shape)\n",
    "print(test_X.shape)\n",
    "print(test_Y.shape)\n",
    "print(val_X.shape)\n",
    "print(val_Y.shape)\n",
    "print(train_X[0])"
   ]
  },
  {
   "cell_type": "code",
   "execution_count": 6,
   "metadata": {},
   "outputs": [],
   "source": [
    "# shuffle the data sets\n",
    "def data_shuffle(X,Y):\n",
    "    s = np.arange(X.shape[0])\n",
    "    np.random.shuffle(s)\n",
    "    return X[s], Y[s]"
   ]
  },
  {
   "cell_type": "code",
   "execution_count": 7,
   "metadata": {},
   "outputs": [],
   "source": [
    "seed = 100\n",
    "np.random.seed(seed)\n",
    "train_X_shuffle, train_Y_shuffle = data_shuffle(train_X, train_Y)\n",
    "test_X_shuffle, test_Y_shuffle = data_shuffle(test_X, test_Y)\n",
    "val_X_shuffle, val_Y_shuffle = data_shuffle(val_X, val_Y)"
   ]
  },
  {
   "cell_type": "code",
   "execution_count": 8,
   "metadata": {},
   "outputs": [],
   "source": [
    "# create a simple CNN model\n",
    "def XrayModel(input_shape):\n",
    "    \"\"\"\n",
    "    Implementation of the XrayModel.\n",
    "    \n",
    "    Arguments:\n",
    "    input_shape -- shape of the images of the dataset\n",
    "\n",
    "    Returns:\n",
    "    model -- a Model() instance in Keras\n",
    "    \"\"\"\n",
    "    \n",
    "    X_input = Input(input_shape)\n",
    "    \n",
    "#     X = ZeroPadding2D((3,3))(X_input)\n",
    "    X = Conv2D(32, (5,5), strides=(1,1), padding='same')(X_input)\n",
    "    X = BatchNormalization(axis=3)(X)    \n",
    "    X = Activation('relu')(X)\n",
    "    X = MaxPooling2D((2,2))(X)\n",
    "    \n",
    "    X = Conv2D(64, (5,5), padding='same')(X)\n",
    "    X = BatchNormalization(axis=3)(X)    \n",
    "    X = Activation('relu')(X)\n",
    "    X = MaxPooling2D((2,2))(X)\n",
    "    \n",
    "    X = Conv2D(128, (5,5), padding='same')(X)\n",
    "    X = BatchNormalization(axis=3)(X)    \n",
    "    X = Activation('relu')(X)\n",
    "    X = MaxPooling2D((2,2))(X)\n",
    "    \n",
    "    X = Conv2D(256, (7,7))(X)\n",
    "    X = BatchNormalization(axis=3)(X)    \n",
    "    X = Activation('relu')(X)\n",
    "    X = MaxPooling2D((2,2))(X)\n",
    "    \n",
    "    X = Flatten()(X)\n",
    "\n",
    "    X = Dense(1, activation='sigmoid')(X)\n",
    "    \n",
    "    model = Model(inputs=X_input, outputs=X)\n",
    "    \n",
    "    \n",
    "    return model"
   ]
  },
  {
   "cell_type": "code",
   "execution_count": 9,
   "metadata": {},
   "outputs": [],
   "source": [
    "model = XrayModel((128,128,3))"
   ]
  },
  {
   "cell_type": "code",
   "execution_count": 10,
   "metadata": {},
   "outputs": [],
   "source": [
    "opt = optimizers.Adam(lr=0.001, beta_1=0.9, beta_2=0.999)"
   ]
  },
  {
   "cell_type": "code",
   "execution_count": 11,
   "metadata": {},
   "outputs": [],
   "source": [
    "model.compile(optimizer=opt, loss='binary_crossentropy', metrics=[\"accuracy\"])"
   ]
  },
  {
   "cell_type": "code",
   "execution_count": 12,
   "metadata": {},
   "outputs": [
    {
     "name": "stdout",
     "output_type": "stream",
     "text": [
      "Epoch 1/20\n",
      "5216/5216 [==============================] - 753s 144ms/step - loss: 0.8203 - acc: 0.8988\n",
      "Epoch 2/20\n",
      "5216/5216 [==============================] - 732s 140ms/step - loss: 0.1113 - acc: 0.9574\n",
      "Epoch 3/20\n",
      "5216/5216 [==============================] - 729s 140ms/step - loss: 0.0842 - acc: 0.9691\n",
      "Epoch 4/20\n",
      "5216/5216 [==============================] - 738s 142ms/step - loss: 0.0489 - acc: 0.9826\n",
      "Epoch 5/20\n",
      "5216/5216 [==============================] - 742s 142ms/step - loss: 0.0451 - acc: 0.9833\n",
      "Epoch 6/20\n",
      "5216/5216 [==============================] - 740s 142ms/step - loss: 0.0503 - acc: 0.9839\n",
      "Epoch 7/20\n",
      "5216/5216 [==============================] - 738s 142ms/step - loss: 0.0337 - acc: 0.9879\n",
      "Epoch 8/20\n",
      "5216/5216 [==============================] - 737s 141ms/step - loss: 0.0464 - acc: 0.9827\n",
      "Epoch 9/20\n",
      "5216/5216 [==============================] - 749s 144ms/step - loss: 0.0341 - acc: 0.9870\n",
      "Epoch 10/20\n",
      "5216/5216 [==============================] - 737s 141ms/step - loss: 0.0236 - acc: 0.9918\n",
      "Epoch 11/20\n",
      "5216/5216 [==============================] - 1120s 215ms/step - loss: 0.0403 - acc: 0.9860\n",
      "Epoch 12/20\n",
      "5216/5216 [==============================] - 742s 142ms/step - loss: 0.0166 - acc: 0.9941\n",
      "Epoch 13/20\n",
      "5216/5216 [==============================] - 731s 140ms/step - loss: 0.0152 - acc: 0.9941\n",
      "Epoch 14/20\n",
      "5216/5216 [==============================] - 725s 139ms/step - loss: 0.0233 - acc: 0.9906\n",
      "Epoch 15/20\n",
      "5216/5216 [==============================] - 723s 139ms/step - loss: 0.0046 - acc: 0.9985\n",
      "Epoch 16/20\n",
      "5216/5216 [==============================] - 717s 137ms/step - loss: 0.0010 - acc: 0.9998\n",
      "Epoch 17/20\n",
      "5216/5216 [==============================] - 720s 138ms/step - loss: 0.0085 - acc: 0.9971\n",
      "Epoch 18/20\n",
      "5216/5216 [==============================] - 724s 139ms/step - loss: 0.0272 - acc: 0.9929\n",
      "Epoch 19/20\n",
      "5216/5216 [==============================] - 733s 141ms/step - loss: 0.0300 - acc: 0.9902\n",
      "Epoch 20/20\n",
      "5216/5216 [==============================] - 723s 139ms/step - loss: 0.0101 - acc: 0.9969\n",
      "16/16 [==============================] - 2s 98ms/step\n",
      "()\n",
      "Loss = 0.3433024287223816\n",
      "Test Accuracy = 0.875\n",
      "624/624 [==============================] - 26s 42ms/step\n",
      "()\n",
      "Loss = 3.0093768132038607\n",
      "Test Accuracy = 0.7227564102564102\n"
     ]
    }
   ],
   "source": [
    "model.fit(x=train_X_shuffle, y=train_Y_shuffle, epochs=20, batch_size=16)\n",
    "\n",
    "val_preds = model.evaluate(x=val_X_shuffle, y=val_Y_shuffle)\n",
    "\n",
    "print()\n",
    "print (\"Loss = \" + str(val_preds[0]))\n",
    "print (\"Test Accuracy = \" + str(val_preds[1]))\n",
    "\n",
    "test_preds = model.evaluate(x=test_X_shuffle, y=test_Y_shuffle)\n",
    "### END CODE HERE ###\n",
    "print()\n",
    "print (\"Loss = \" + str(test_preds[0]))\n",
    "print (\"Test Accuracy = \" + str(test_preds[1]))"
   ]
  },
  {
   "cell_type": "code",
   "execution_count": null,
   "metadata": {},
   "outputs": [],
   "source": []
  }
 ],
 "metadata": {
  "kernelspec": {
   "display_name": "Python 3",
   "language": "python",
   "name": "python3"
  },
  "language_info": {
   "codemirror_mode": {
    "name": "ipython",
    "version": 2
   },
   "file_extension": ".py",
   "mimetype": "text/x-python",
   "name": "python",
   "nbconvert_exporter": "python",
   "pygments_lexer": "ipython2",
   "version": "2.7.15"
  }
 },
 "nbformat": 4,
 "nbformat_minor": 2
}
